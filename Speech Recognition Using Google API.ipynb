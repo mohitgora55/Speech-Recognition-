{
 "cells": [
  {
   "cell_type": "code",
   "execution_count": 1,
   "metadata": {},
   "outputs": [],
   "source": [
    "# We will use speech_recognition module for speech recognition.\n",
    "import speech_recognition as sr"
   ]
  },
  {
   "cell_type": "code",
   "execution_count": 2,
   "metadata": {},
   "outputs": [],
   "source": [
    "# Creating Speech recognition instance\n",
    "recog = sr.Recognizer()"
   ]
  },
  {
   "cell_type": "code",
   "execution_count": 3,
   "metadata": {},
   "outputs": [
    {
     "data": {
      "text/plain": [
       "<speech_recognition.Recognizer at 0x1d02b3b73c8>"
      ]
     },
     "execution_count": 3,
     "metadata": {},
     "output_type": "execute_result"
    }
   ],
   "source": [
    "recog"
   ]
  },
  {
   "cell_type": "code",
   "execution_count": 4,
   "metadata": {},
   "outputs": [
    {
     "name": "stdout",
     "output_type": "stream",
     "text": [
      "Please provide the file with extension: speech.wav\n",
      "I love another web YouTube channel\n"
     ]
    }
   ],
   "source": [
    "# Using reocrded audio file.\n",
    "# Audio file should be in wav format.\n",
    "\n",
    "filename = input(\"Please provide the file with extension: \") # our file extension should by .wav\n",
    "with sr.AudioFile(filename) as source:\n",
    "    audiofile = recog.listen(source)\n",
    "    try:\n",
    "        text= recog.recognize_google(audiofile)\n",
    "        print(text)\n",
    "    except:\n",
    "        print('Check internet connectivity')"
   ]
  },
  {
   "cell_type": "code",
   "execution_count": 5,
   "metadata": {},
   "outputs": [
    {
     "name": "stdout",
     "output_type": "stream",
     "text": [
      "I love another web YouTube channel\n"
     ]
    }
   ],
   "source": [
    "# Using Microphone to grab audio and convert that to text.\n",
    "\n",
    "with sr.Microphone() as source:\n",
    "    audio = recog.listen(source)\n",
    "    try:\n",
    "        text  = recog.recognize_google(audio)\n",
    "        print(text)\n",
    "    except:\n",
    "        print('Internet connectivity issue')"
   ]
  },
  {
   "cell_type": "code",
   "execution_count": null,
   "metadata": {},
   "outputs": [],
   "source": []
  }
 ],
 "metadata": {
  "kernelspec": {
   "display_name": "Python 3",
   "language": "python",
   "name": "python3"
  },
  "language_info": {
   "codemirror_mode": {
    "name": "ipython",
    "version": 3
   },
   "file_extension": ".py",
   "mimetype": "text/x-python",
   "name": "python",
   "nbconvert_exporter": "python",
   "pygments_lexer": "ipython3",
   "version": "3.7.1"
  }
 },
 "nbformat": 4,
 "nbformat_minor": 4
}
